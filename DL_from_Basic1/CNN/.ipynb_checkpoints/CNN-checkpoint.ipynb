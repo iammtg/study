{
 "cells": [
  {
   "cell_type": "markdown",
   "id": "5134f173-519e-49ec-8095-bd989aee5cf7",
   "metadata": {},
   "source": [
    "## 畳み込みニューラルネットワーク(CNN)"
   ]
  },
  {
   "cell_type": "markdown",
   "id": "316fa968-575f-4e20-90f8-8c3a74cfbd5a",
   "metadata": {},
   "source": [
    "### 7.2.5 3次元データの畳み込み演算\n",
    "画像の場合、縦・横方向に加えてチャンネル方向も合わせた3次元のデータを扱う必要がある。<br>"
   ]
  },
  {
   "cell_type": "markdown",
   "id": "54e41486-fbad-4a57-ad66-b2c918bcaa62",
   "metadata": {},
   "source": [
    "![iwaki](../images/329fe6c10d0051d35cfb9eab31a4c023.png)"
   ]
  },
  {
   "cell_type": "markdown",
   "id": "faeedca7-437d-4368-82ef-e6aa84c3f169",
   "metadata": {},
   "source": [
    "### 7.4.1 4次元配列\n",
    "CNNで各層を流れるデータは4次元のデータである。(高さ・横幅・チャンネル数・データ数)"
   ]
  },
  {
   "cell_type": "code",
   "execution_count": 14,
   "id": "f129e280-58c1-47eb-9ed6-7aff3c3e9458",
   "metadata": {},
   "outputs": [
    {
     "data": {
      "text/plain": [
       "(10, 1, 28, 28)"
      ]
     },
     "execution_count": 14,
     "metadata": {},
     "output_type": "execute_result"
    }
   ],
   "source": [
    "import numpy as np\n",
    "x = np.random.rand(10,1,28,28)\n",
    "x.shape"
   ]
  },
  {
   "cell_type": "code",
   "execution_count": 18,
   "id": "cb3c3069-a5bf-4807-ab4b-0103ef5f8e0a",
   "metadata": {},
   "outputs": [
    {
     "name": "stdout",
     "output_type": "stream",
     "text": [
      "(1, 28, 28)\n"
     ]
    }
   ],
   "source": [
    "#print(x[0])\n",
    "print(x[0].shape)"
   ]
  },
  {
   "cell_type": "markdown",
   "id": "adf7bab1-ec32-47fa-b96c-9d2db2e9369e",
   "metadata": {},
   "source": [
    "畳み込み演算の際に真面目に計算を行うとfor文地獄に陥り、numpyを用いた実装だと遅くなってしまう。<br>\n",
    "そこで、im2colという、便利な関数を用いて実装する。"
   ]
  },
  {
   "cell_type": "code",
   "execution_count": 23,
   "id": "c74decaf-ff83-4213-8319-c052a246d9fe",
   "metadata": {},
   "outputs": [
    {
     "name": "stdout",
     "output_type": "stream",
     "text": [
      "(9, 75)\n",
      "(90, 75)\n"
     ]
    }
   ],
   "source": [
    "import sys,os\n",
    "sys.path.append(os.pardir)\n",
    "from common.util import im2col\n",
    "\n",
    "x1 = np.random.rand(1,3,7,7)\n",
    "col1 = im2col(x1,5,5,stride=1,pad=0)\n",
    "print(col1.shape)\n",
    "\n",
    "x2 = np.random.rand(10,3,7,7)\n",
    "col2 = im2col(x2,5,5,stride=1,pad=0)\n",
    "print(col2.shape)"
   ]
  },
  {
   "cell_type": "code",
   "execution_count": 26,
   "id": "e0e40f9a-c965-449f-8df1-9988be85d893",
   "metadata": {},
   "outputs": [],
   "source": [
    "class Convolution:\n",
    "    def __init__(self,W,b,stride=1,pad=0):\n",
    "        self.W = W\n",
    "        self.b = b\n",
    "        self.stride = stride\n",
    "        self.pad = pad\n",
    "    def forward(self,x):\n",
    "        FN,C,FH,FW = self.W.shape\n",
    "        N,C,H,W = x.shpae\n",
    "        out_h = int(1 + (H + 2*self.pad -FH)/self.stride) \n",
    "        out_w = int(1 + (W + 2*self.pad -FW)/self.stride) \n",
    "\n",
    "        col = im2col(x,FH,FW,self.stride,self.pad)\n",
    "        col_W = self.W.reshape(FN,-1).T\n",
    "        out = np.dot(col,col_W) + self.b\n",
    "\n",
    "        out = out.reshape(N,out_h,out_w,-1).transpose(0,3,1,2)\n",
    "        return out"
   ]
  },
  {
   "cell_type": "markdown",
   "id": "ee2627c3-d042-4496-bcd3-abecf51fe9ac",
   "metadata": {},
   "source": [
    "reshape(FN,-1),-1を指定することで多次元配列の要素数の辻褄があるように要素数をまとめてくれる。"
   ]
  },
  {
   "cell_type": "code",
   "execution_count": 31,
   "id": "e5c6d7fd-59fd-448f-b1ff-2de33ae9a644",
   "metadata": {},
   "outputs": [],
   "source": [
    "class Pooling:\n",
    "    def __inti__(self,pool_h,pool_w,stride=2,pad=0):\n",
    "        self.pool_h = pool_h\n",
    "        self.pool_w = pool_w\n",
    "        self.stride = stride\n",
    "        self.pad = pad\n",
    "\n",
    "    def forward(self,w):\n",
    "        N,C,H,W = x.shape\n",
    "        out_h = int(1 + (H - self.pool_h)/self.stride)\n",
    "        out_w = int(1 + (W - self.pool_w)/self.stride)\n",
    "\n",
    "        col = im2col(x,self.pool_h,self.pool_w,self.stride,self.pad)\n",
    "        col = col.reshape(-1,self.pool_h*self.pool_w)\n",
    "\n",
    "        out = np.max(col,axis=1)\n",
    "        out = out.reshape(N,out_h,out_w,C).transpose(0,3,1,2)"
   ]
  },
  {
   "cell_type": "code",
   "execution_count": null,
   "id": "53bbabdd-ed17-4fa5-949c-e35489940732",
   "metadata": {},
   "outputs": [],
   "source": []
  }
 ],
 "metadata": {
  "kernelspec": {
   "display_name": "Python 3 (ipykernel)",
   "language": "python",
   "name": "python3"
  },
  "language_info": {
   "codemirror_mode": {
    "name": "ipython",
    "version": 3
   },
   "file_extension": ".py",
   "mimetype": "text/x-python",
   "name": "python",
   "nbconvert_exporter": "python",
   "pygments_lexer": "ipython3",
   "version": "3.10.4"
  }
 },
 "nbformat": 4,
 "nbformat_minor": 5
}
