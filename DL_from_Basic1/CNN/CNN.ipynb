{
 "cells": [
  {
   "cell_type": "markdown",
   "id": "5134f173-519e-49ec-8095-bd989aee5cf7",
   "metadata": {},
   "source": [
    "## 畳み込みニューラルネットワーク(CNN)"
   ]
  },
  {
   "cell_type": "markdown",
   "id": "316fa968-575f-4e20-90f8-8c3a74cfbd5a",
   "metadata": {},
   "source": [
    "### 7.2.5 3次元データの畳み込み演算\n",
    "画像の場合、縦・横方向に加えてチャンネル方向も合わせた3次元のデータを扱う必要がある。<br>"
   ]
  },
  {
   "cell_type": "markdown",
   "id": "54e41486-fbad-4a57-ad66-b2c918bcaa62",
   "metadata": {},
   "source": [
    "![iwaki](../images/329fe6c10d0051d35cfb9eab31a4c023.png)"
   ]
  },
  {
   "cell_type": "markdown",
   "id": "faeedca7-437d-4368-82ef-e6aa84c3f169",
   "metadata": {},
   "source": [
    "### 7.4.1 4次元配列\n",
    "CNNで各層を流れるデータは4次元のデータである。(高さ・横幅・チャンネル数・データ数)"
   ]
  },
  {
   "cell_type": "code",
   "execution_count": 1,
   "id": "f129e280-58c1-47eb-9ed6-7aff3c3e9458",
   "metadata": {},
   "outputs": [
    {
     "data": {
      "text/plain": [
       "(10, 1, 28, 28)"
      ]
     },
     "execution_count": 1,
     "metadata": {},
     "output_type": "execute_result"
    }
   ],
   "source": [
    "import numpy as np\n",
    "x = np.random.rand(10,1,28,28)\n",
    "x.shape"
   ]
  },
  {
   "cell_type": "code",
   "execution_count": 2,
   "id": "cb3c3069-a5bf-4807-ab4b-0103ef5f8e0a",
   "metadata": {},
   "outputs": [
    {
     "name": "stdout",
     "output_type": "stream",
     "text": [
      "(1, 28, 28)\n"
     ]
    }
   ],
   "source": [
    "#print(x[0])\n",
    "print(x[0].shape)"
   ]
  },
  {
   "cell_type": "markdown",
   "id": "adf7bab1-ec32-47fa-b96c-9d2db2e9369e",
   "metadata": {},
   "source": [
    "畳み込み演算の際に真面目に計算を行うとfor文地獄に陥り、numpyを用いた実装だと遅くなってしまう。<br>\n",
    "そこで、im2colという、便利な関数を用いて実装する。"
   ]
  },
  {
   "cell_type": "code",
   "execution_count": 3,
   "id": "c74decaf-ff83-4213-8319-c052a246d9fe",
   "metadata": {},
   "outputs": [
    {
     "name": "stdout",
     "output_type": "stream",
     "text": [
      "(9, 75)\n",
      "(90, 75)\n"
     ]
    }
   ],
   "source": [
    "import sys,os\n",
    "sys.path.append(os.pardir)\n",
    "from common.util import im2col\n",
    "\n",
    "x1 = np.random.rand(1,3,7,7)\n",
    "col1 = im2col(x1,5,5,stride=1,pad=0)\n",
    "print(col1.shape)\n",
    "\n",
    "x2 = np.random.rand(10,3,7,7)\n",
    "col2 = im2col(x2,5,5,stride=1,pad=0)\n",
    "print(col2.shape)"
   ]
  },
  {
   "cell_type": "markdown",
   "id": "b11c28c9-9b43-4a6e-9953-707ddbf9342a",
   "metadata": {},
   "source": [
    "チャンネル数3,フィルターサイズ5x5"
   ]
  },
  {
   "cell_type": "code",
   "execution_count": 4,
   "id": "e0e40f9a-c965-449f-8df1-9988be85d893",
   "metadata": {},
   "outputs": [],
   "source": [
    "class Convolution:\n",
    "    def __init__(self,W,b,stride=1,pad=0):\n",
    "        self.W = W\n",
    "        self.b = b\n",
    "        self.stride = stride\n",
    "        self.pad = pad\n",
    "    def forward(self,x):\n",
    "        FN,C,FH,FW = self.W.shape\n",
    "        N,C,H,W = x.shpae\n",
    "        out_h = int(1 + (H + 2*self.pad -FH)/self.stride) \n",
    "        out_w = int(1 + (W + 2*self.pad -FW)/self.stride) \n",
    "\n",
    "        #im2colで画像データを行列データに変換する\n",
    "        col = im2col(x,FH,FW,self.stride,self.pad)\n",
    "        #フィルタをreshapeして2次元配列に変換\n",
    "        col_W = self.W.reshape(FN,-1).T\n",
    "        out = np.dot(col,col_W) + self.b\n",
    "        #出力の形を整える\n",
    "        out = out.reshape(N,out_h,out_w,-1).transpose(0,3,1,2)\n",
    "        return out"
   ]
  },
  {
   "cell_type": "markdown",
   "id": "17e26148-40dc-4781-b94a-aa0a3b6befa3",
   "metadata": {},
   "source": [
    "![iwaki](../images/i1.png)"
   ]
  },
  {
   "cell_type": "markdown",
   "id": "ee2627c3-d042-4496-bcd3-abecf51fe9ac",
   "metadata": {},
   "source": [
    "reshape(FN,-1),-1を指定することで多次元配列の要素数の辻褄があるように要素数をまとめてくれる。"
   ]
  },
  {
   "cell_type": "code",
   "execution_count": 5,
   "id": "e5c6d7fd-59fd-448f-b1ff-2de33ae9a644",
   "metadata": {},
   "outputs": [],
   "source": [
    "class Pooling:\n",
    "    def __inti__(self,pool_h,pool_w,stride=2,pad=0):\n",
    "        self.pool_h = pool_h\n",
    "        self.pool_w = pool_w\n",
    "        self.stride = stride\n",
    "        self.pad = pad\n",
    "\n",
    "    def forward(self,w):\n",
    "        N,C,H,W = x.shape\n",
    "        out_h = int(1 + (H - self.pool_h)/self.stride)\n",
    "        out_w = int(1 + (W - self.pool_w)/self.stride)\n",
    "\n",
    "        col = im2col(x,self.pool_h,self.pool_w,self.stride,self.pad)\n",
    "        col = col.reshape(-1,self.pool_h*self.pool_w)\n",
    "\n",
    "        out = np.max(col,axis=1)\n",
    "        out = out.reshape(N,out_h,out_w,C).transpose(0,3,1,2)"
   ]
  },
  {
   "cell_type": "code",
   "execution_count": 3,
   "id": "53bbabdd-ed17-4fa5-949c-e35489940732",
   "metadata": {},
   "outputs": [
    {
     "name": "stdout",
     "output_type": "stream",
     "text": [
      "hello\n"
     ]
    }
   ],
   "source": [
    "'''\n",
    "class SimpleConvNet2:\n",
    "    def __init__(self,input_dim=(1,28,28),\n",
    "                 conv_params={'filter_num':30,'filter_size':5,'pad':0,'stride':1},\n",
    "                 hidden_size = 100,output_size=10,weight_init_std=0.01):\n",
    "        filter_num = conv_param['filter_num']\n",
    "        filter_size = conv_param['filter_size']\n",
    "        filter_pad = conv_param['pad']\n",
    "        filter_stride = conv_param['stride']\n",
    "        input_size = input_dim[1]\n",
    "        conv_output_size = (input_size - filter_size + 2*filter_pad) / filter_stride + 1\n",
    "        pool_output_size = int(filter_num * (conv_output_size/2) * (conv_output_size/2))\n",
    "\n",
    "        self.params = {}\n",
    "        self.params['W1'] = weight_init_std * np.randm.randn(filter_num,input_dim[0],\n",
    "                                                             filter_size,filter_size)\n",
    "        self.parmas['b1'] = np.zeros(filter_num)\n",
    "        self.params['W2'] = weight_init_std * np.random.randn(pool_output_size,\n",
    "                                                              hidden_size)\n",
    "        self.params['b2'] = np.zeros(hidden_size)\n",
    "        self.params['W3'] = weight_init_std * np.random.randn(hidden_size,\n",
    "                                                              output_size)\n",
    "        self.params['b3'] = np.zeros(output_size)\n",
    "\n",
    "        self.layers = OrderedDict()\n",
    "        self.layers['Conv1'] = Convolution(self.params['W1'],self.params['b1'],\n",
    "                                           conv_param['stride'],conv_param['pad'])\n",
    "        self.layers['Relu1'] = Relu()\n",
    "        self.layers['Pool1'] = Pooling(pool_h=2, pool_w=2, stride=2)\n",
    "        self.layers['Affine1'] = Affine(self.params['W2'],self.params['b2'])\n",
    "        self.layers['Relu2'] = Relu()\n",
    "        self.layers['Affine2'] = Affine(self.params['W3'],self.params['b3'])\n",
    "        self.last_layer = SoftmaxWithLoss()\n",
    "\n",
    "    def predict(self,w):\n",
    "        for layer in self.layers.values():\n",
    "            x = layer.forward(x)\n",
    "        return x\n",
    "\n",
    "    def loss(self,x,t):\n",
    "        y = self.predict(x)\n",
    "        return self.last_layre.forward(y,t)\n",
    "\n",
    "    def gradient(self,x,t):\n",
    "        #forward\n",
    "        self.loss(x,t)\n",
    "\n",
    "        #backword\n",
    "        dout = 1\n",
    "        dout = self.last_layer.backward(dout)\n",
    "\n",
    "        layers = list(self.layers.values())\n",
    "        layres.reverse()\n",
    "        for layer in layers:\n",
    "            dout = layre.backward(dout)\n",
    "\n",
    "        grads = {}\n",
    "        grads['W1'] = self.layres['Conv1'].dW\n",
    "        grads['b1'] = self.layres['Conv1'].db\n",
    "        grads['W2'] = self.layres['Affine1'].dW\n",
    "        grads['b2'] = self.layres['Affine1'].db\n",
    "        grads['W3'] = self.layres['Affine2'].dW\n",
    "        grads['b3'] = self.layres['Affine1'].db\n",
    "\n",
    "        return grads\n",
    "'''\n",
    "print('hello')"
   ]
  }
 ],
 "metadata": {
  "kernelspec": {
   "display_name": "Python 3 (ipykernel)",
   "language": "python",
   "name": "python3"
  },
  "language_info": {
   "codemirror_mode": {
    "name": "ipython",
    "version": 3
   },
   "file_extension": ".py",
   "mimetype": "text/x-python",
   "name": "python",
   "nbconvert_exporter": "python",
   "pygments_lexer": "ipython3",
   "version": "3.10.4"
  }
 },
 "nbformat": 4,
 "nbformat_minor": 5
}
