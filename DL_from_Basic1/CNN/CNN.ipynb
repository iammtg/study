{
 "cells": [
  {
   "cell_type": "markdown",
   "id": "5134f173-519e-49ec-8095-bd989aee5cf7",
   "metadata": {},
   "source": [
    "## 畳み込みニューラルネットワーク(CNN)"
   ]
  },
  {
   "cell_type": "markdown",
   "id": "316fa968-575f-4e20-90f8-8c3a74cfbd5a",
   "metadata": {},
   "source": [
    "### 7.2.5 3次元データの畳み込み演算\n",
    "画像の場合、縦・横方向に加えてチャンネル方向も合わせた3次元のデータを扱う必要がある。<br>"
   ]
  },
  {
   "cell_type": "markdown",
   "id": "54e41486-fbad-4a57-ad66-b2c918bcaa62",
   "metadata": {},
   "source": [
    "![iwaki](../images/329fe6c10d0051d35cfb9eab31a4c023.png)"
   ]
  },
  {
   "cell_type": "code",
   "execution_count": null,
   "id": "721341a3-7f3a-4a6d-82ab-9364dbe8478e",
   "metadata": {},
   "outputs": [],
   "source": []
  }
 ],
 "metadata": {
  "kernelspec": {
   "display_name": "Python 3 (ipykernel)",
   "language": "python",
   "name": "python3"
  },
  "language_info": {
   "codemirror_mode": {
    "name": "ipython",
    "version": 3
   },
   "file_extension": ".py",
   "mimetype": "text/x-python",
   "name": "python",
   "nbconvert_exporter": "python",
   "pygments_lexer": "ipython3",
   "version": "3.10.4"
  }
 },
 "nbformat": 4,
 "nbformat_minor": 5
}
