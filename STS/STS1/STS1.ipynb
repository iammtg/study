{
 "cells": [
  {
   "cell_type": "code",
   "execution_count": 15,
   "id": "01a7d31b-d1a7-4352-8405-ed1a94a6af80",
   "metadata": {},
   "outputs": [
    {
     "name": "stdout",
     "output_type": "stream",
     "text": [
      "['above' 'acouch' 'across' ... 'yellow' 'young' 'younger']\n"
     ]
    }
   ],
   "source": [
    "from sklearn.metrics.pairwise import cosine_similarity\n",
    "from scipy import spatial\n",
    "from sklearn.feature_extraction.text import TfidfVectorizer\n",
    "input_path = '../test_data/STS.input.images.txt'\n",
    "output_path = './output/STS.output.images.txt'\n",
    "\n",
    "#ファイル入力\n",
    "with open(input_path) as f:\n",
    "    s = f.read()\n",
    "s = s.strip().replace('\\t','\\n')\n",
    "sentences = s.split('\\n')\n",
    "\n",
    "#Vectorizerを設定する。\n",
    "vectorizer = TfidfVectorizer()\n",
    "\n",
    "#語彙の獲得とidfの計算\n",
    "vectorizer.fit(sentences)\n",
    "#tf-idf行列の生成\n",
    "X = vectorizer.transform(sentences)\n",
    "# print(vectorizer.get_feature_names_out())\n",
    "# words = vectorizer.get_feature_names_out()\n",
    "# vec1,vec2 = X.toarray()[0],X.toarray()[1]\n",
    "# cos_sim = 1 - spatial.distance.cosine(vec1,vec2)\n",
    "# print(cos_sim,spatial.distance.cosine(vec1,vec2))\n",
    "\n",
    "# l = 1500\n",
    "l = len(sentences)\n",
    "\n",
    "#c750個のcos類似度リスト\n",
    "cos_sim_list = []\n",
    "#出力用の文字列\n",
    "output = ''\n",
    "\n",
    "# vecs1 = []\n",
    "# vecs2 = []\n",
    "\n",
    "#それぞれ類似度を求める。\n",
    "for i in range(int(l/2)):\n",
    "    vec1 = X.toarray()[2*i]\n",
    "    vecs1.append(vec1)\n",
    "    vec2 = X.toarray()[2*i+1]\n",
    "    vecs2.append(vec2)\n",
    "    #cos距離を用いて類似度を出す。\n",
    "    cos_sim = 1 - spatial.distance.cosine(vec1,vec2)\n",
    "    cos_sim_list.append(cos_sim)\n",
    "    output += str(cos_sim) + '\\n'\n",
    "# cos_sim = cosine_similarity(vecs1,vecs2)\n",
    "with open(output_path,mode='w') as f:\n",
    "    f.write(output)"
   ]
  },
  {
   "cell_type": "code",
   "execution_count": 13,
   "id": "4dc9952c-7edb-4689-a86f-bd7d675f8001",
   "metadata": {},
   "outputs": [
    {
     "name": "stdout",
     "output_type": "stream",
     "text": [
      "[[0.64507343 0.04358507 0.19629257 ... 0.04083429 0.04511032 0.22595334]\n",
      " [0.12074609 0.93587462 0.16686927 ... 0.07610499 0.13313897 0.04932059]\n",
      " [0.0992338  0.04586451 0.14951323 ... 0.         0.         0.08820167]\n",
      " ...\n",
      " [0.02944426 0.03796594 0.04436297 ... 0.62261456 0.03929455 0.        ]\n",
      " [0.         0.         0.         ... 0.         0.51482704 0.        ]\n",
      " [0.14558522 0.         0.         ... 0.         0.         0.27154636]]\n"
     ]
    }
   ],
   "source": [
    "print(cos_sim)"
   ]
  }
 ],
 "metadata": {
  "kernelspec": {
   "display_name": "Python 3 (ipykernel)",
   "language": "python",
   "name": "python3"
  },
  "language_info": {
   "codemirror_mode": {
    "name": "ipython",
    "version": 3
   },
   "file_extension": ".py",
   "mimetype": "text/x-python",
   "name": "python",
   "nbconvert_exporter": "python",
   "pygments_lexer": "ipython3",
   "version": "3.10.9"
  }
 },
 "nbformat": 4,
 "nbformat_minor": 5
}
