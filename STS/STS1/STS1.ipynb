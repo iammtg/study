{
 "cells": [
  {
   "cell_type": "code",
   "execution_count": 10,
   "id": "01a7d31b-d1a7-4352-8405-ed1a94a6af80",
   "metadata": {
    "scrolled": true
   },
   "outputs": [
    {
     "name": "stderr",
     "output_type": "stream",
     "text": [
      "[nltk_data] Downloading package stopwords to\n",
      "[nltk_data]     C:\\Users\\Fox25\\AppData\\Roaming\\nltk_data...\n",
      "[nltk_data]   Package stopwords is already up-to-date!\n"
     ]
    },
    {
     "name": "stdout",
     "output_type": "stream",
     "text": [
      "1103\n",
      "<class 'numpy.ndarray'>\n",
      "['abov', 'acouch', 'across', 'adorned', 'aeromexico', 'afield', 'african', 'afternoon', 'ahead', 'air', 'aircraft', 'airfield', 'airliner', 'airplane', 'airplanes', 'airport', 'alley', 'alone', 'along', 'alongside', 'alpine', 'amongst', 'amtrak', 'anim', 'animal', 'animals', 'anoth', 'another', 'apart', 'apartment', 'apple', 'approaches', 'area', 'arena', 'areomexico', 'arm', 'arms', 'around', 'artwork', 'asian', 'asleep', 'atop', 'attacking', 'auct', 'auction', 'awn', 'babi', 'baby', 'back', 'background', 'backpack', 'bag', 'bald', 'bamboo', 'band', 'bar', 'bare', 'barge', 'barges', 'barn', 'basket', 'basketball', 'bathroom', 'bay', 'beach', 'beak', 'beam', 'beard', 'bed', 'bedroom', 'beer', 'beers', 'behind', 'beige', 'bell', 'bench', 'beret', 'beside', 'bi', 'bib', 'bicycl', 'bicycle', 'bicycles', 'bicyclist', 'bicyclists', 'big', 'bik', 'bike', 'bikers', 'bikes', 'bikini', 'bird', 'birds', 'black', 'blackbird', 'blanket', 'blend', 'blonde', 'blouse', 'blue', 'bmw', 'boat', 'boats', 'body', 'book', 'bookcas', 'bookshelf', 'bookstor', 'bookstore', 'boots', 'bottl', 'bottle', 'bottles', 'bottom', 'bow', 'bowl', 'bowls', 'box', 'boy', 'boys', 'bracelet', 'branch', 'branches', 'brick', 'bridge', 'bright', 'broom', 'brown', 'brunette', 'bu', 'buddha', 'build', 'building', 'bull', 'bulldog', 'bus', 'buses', 'bush', 'busy', 'cabinet', 'cabinets', 'cactus', 'caf', 'cag', 'cak', 'cake', 'calf', 'calico', 'camera', 'camouflage', 'camouflaged', 'camp', 'candle', 'candles', 'cano', 'canoe', 'cap', 'car', 'cardinals', 'care', 'cargo', 'carpet', 'carpeted', 'carpeting', 'cars', 'cart', 'carton', 'carving', 'cat', 'catches', 'catching', 'cats', 'cattle', 'ceiling', 'cell', 'cement', 'center', 'chair', 'chairs', 'chased', 'chest', 'chevrolet', 'chews', 'child', 'children', 'christmas', 'city', 'cityscap', 'clad', 'classic', 'clear', 'cliff', 'clings', 'cloak', 'clos', 'close', 'closed', 'closely', 'closet', 'cloth', 'clothed', 'clothing', 'cloudy', 'cluttered', 'coach', 'coal', 'coast', 'cobble', 'coca', 'coffee', 'coke', 'cola', 'cold', 'collar', 'colored', 'coloring', 'comes', 'coming', 'commercial', 'comput', 'computer', 'computers', 'concept', 'concret', 'concrete', 'construct', 'construction', 'containing', 'control', 'copse', 'corn', 'corvett', 'cotton', 'couch', 'count', 'countertop', 'countri', 'countryside', 'couple', 'cours', 'covered', 'coverlet', 'cow', 'cows', 'crayon', 'cream', 'creek', 'cross', 'crossed', 'crossing', 'crowd', 'crowded', 'cruise', 'cubicl', 'curious', 'curled', 'cushion', 'cuts', 'cutting', 'cycl', 'cyclist', 'cyclists', 'dairy', 'dark', 'das', 'day', 'debris', 'deck', 'decker', 'decrepit', 'den', 'depressed', 'desk', 'desks', 'desktop', 'dessert', 'dilapidated', 'dining', 'dinner', 'direct', 'dirt', 'dirty', 'dishes', 'displayed', 'dist', 'distorted', 'dock', 'docked', 'docking', 'dog', 'dogs', 'dom', 'domestic', 'door', 'doorway', 'double', 'doubly', 'dress', 'dressed', 'dresses', 'drink', 'drinking', 'drinks', 'drives', 'driving', 'dry', 'duck', 'ducks', 'dumpst', 'dust', 'eagle', 'eagles', 'ear', 'ears', 'eat', 'eating', 'eats', 'edg', 'edge', 'eight', 'elderly', 'elegant', 'elvi', 'emitting', 'empty', 'enclosur', 'end', 'engin', 'engine', 'england', 'entrance', 'equestrian', 'equipment', 'esso', 'even', 'ey', 'eye', 'eyes', 'fabr', 'fac', 'face', 'faced', 'facing', 'fan', 'fashioned', 'father', 'feed', 'feeder', 'feeding', 'feet', 'female', 'fence', 'fenced', 'fencepost', 'ferris', 'field', 'fighter', 'fish', 'fishing', 'five', 'flakes', 'flapping', 'flat', 'flies', 'flight', 'floating', 'flock', 'floor', 'floral', 'flow', 'flower', 'flowering', 'flowerpot', 'flowers', 'fly', 'flying', 'foal', 'food', 'foot', 'foreground', 'forest', 'formal', 'formation', 'fountain', 'four', 'fram', 'front', 'fruit', 'full', 'fur', 'furnished', 'furnitur', 'furniture', 'furry', 'fuzzy', 'gallop', 'galloping', 'game', 'garden', 'gardens', 'gas', 'gate', 'gated', 'gathering', 'gear', 'gears', 'gentleman', 'gets', 'giant', 'ginger', 'girl', 'girls', 'giving', 'glass', 'glasses', 'gliding', 'gloved', 'glowing', 'goat', 'goats', 'going', 'gold', 'goose', 'gr', 'graff', 'graffiti', 'grass', 'grassy', 'gravel', 'gray', 'graze', 'grazing', 'green', 'grey', 'ground', 'group', 'guitar', 'guy', 'guys', 'hair', 'haired', 'half', 'halt', 'hand', 'hands', 'hanging', 'harbor', 'harp', 'hat', 'hay', 'head', 'headed', 'headlights', 'headlines', 'heads', 'hedg', 'held', 'helmet', 'helmeted', 'high', 'highchair', 'highway', 'hil', 'hillsid', 'hillside', 'hold', 'holding', 'holds', 'hom', 'home', 'hood', 'horned', 'horns', 'hors', 'horse', 'horses', 'hose', 'hotel', 'hous', 'house', 'houses', 'husk', 'icy', 'idle', 'image', 'inclin', 'indian', 'indoor', 'inf', 'infant', 'inside', 'intersect', 'italian', 'items', 'jacket', 'jay', 'jean', 'jeans', 'jeep', 'jet', 'jockey', 'julia', 'jumping', 'kennel', 'ketchup', 'kid', 'kids', 'kitchen', 'kitchendiner', 'kitten', 'kittens', 'lady', 'lager', 'lak', 'lake', 'lamb', 'lambs', 'lamp', 'landing', 'lap', 'laptop', 'large', 'larger', 'laugh', 'laughing', 'laundry', 'lawn', 'lay', 'laying', 'leading', 'leash', 'leather', 'leaves', 'ledge', 'left', 'legged', 'legs', 'lemon', 'lies', 'light', 'lights', 'line', 'lined', 'liner', 'liquid', 'lira', 'litt', 'little', 'living', 'loaded', 'located', 'locomotive', 'locomotives', 'log', 'london', 'lone', 'long', 'longed', 'look', 'looking', 'looks', 'lot', 'lounges', 'love', 'loveseat', 'low', 'lrb', 'lush', 'lying', 'macintosh', 'make', 'makes', 'mallard', 'man', 'many', 'marble', 'marina', 'market', 'mask', 'materials', 'may', 'meadow', 'meal', 'median', 'men', 'messy', 'metal', 'mid', 'middle', 'milk', 'milking', 'mist', 'model', 'moggie', 'monitor', 'monitors', 'mop', 'moped', 'mopeds', 'morning', 'mostly', 'moth', 'mother', 'motor', 'motorbik', 'motorbike', 'motorbikes', 'motorcycl', 'motorcycle', 'motorcycles', 'motorcyclist', 'mountain', 'mountainous', 'mountains', 'mounted', 'moves', 'movi', 'moving', 'multi', 'multiple', 'mural', 'mushroom', 'napping', 'navy', 'near', 'necklac', 'newborn', 'news', 'next', 'night', 'nine', 'nose', 'notebook', 'number', 'object', 'occasion', 'ocean', 'office', 'officers', 'old', 'older', 'one', 'onto', 'open', 'operating', 'opposite', 'orange', 'ornate', 'ostrich', 'oth', 'outdoor', 'outlooking', 'outsid', 'outside', 'outstretched', 'overhead', 'overpass', 'packet', 'padding', 'paddling', 'painting', 'pale', 'palm', 'pants', 'papers', 'park', 'parked', 'parking', 'parrot', 'partially', 'partly', 'passeng', 'passenger', 'passengers', 'past', 'pastur', 'pasture', 'patch', 'path', 'patio', 'patterned', 'pause', 'paved', 'pc', 'peaks', 'peeking', 'pen', 'peopl', 'people', 'peoples', 'perched', 'perches', 'performing', 'person', 'pet', 'pets', 'philips', 'phillips', 'phon', 'photo', 'pi', 'picking', 'pictur', 'picture', 'pictures', 'pig', 'pile', 'piled', 'pillar', 'pillow', 'pink', 'pitched', 'pl', 'placed', 'places', 'plain', 'plan', 'plane', 'planes', 'plank', 'plant', 'plastic', 'platform', 'playing', 'playm', 'plaza', 'pointing', 'points', 'pol', 'police', 'pond', 'poni', 'pops', 'porch', 'port', 'pose', 'poses', 'posing', 'post', 'pot', 'potted', 'preparing', 'pretty', 'prey', 'print', 'protects', 'public', 'pug', 'pulled', 'pulling', 'puppi', 'puppy', 'purple', 'purse', 'push', 'pushchairs', 'pushing', 'quickly', 'race', 'racing', 'rail', 'railroad', 'rain', 'rais', 'raised', 'rams', 'readied', 'rear', 'receptacl', 'reclines', 'red', 'redheaded', 'reflected', 'relax', 'relaxes', 'remote', 'restaur', 'restaurant', 'resting', 'retro', 'rid', 'ride', 'rider', 'rides', 'riding', 'right', 'riv', 'river', 'road', 'roadway', 'rock', 'rocks', 'room', 'rop', 'rounded', 'row', 'rowing', 'rows', 'rrb', 'rug', 'ruin', 'runn', 'runner', 'running', 'runs', 'runway', 'rural', 'sail', 'sailboat', 'sailing', 'sails', 'salad', 'saloon', 'sand', 'sari', 'scantily', 'scarf', 'scene', 'schemed', 'school', 'scooter', 'scrap', 'screen', 'scrub', 'sea', 'seagull', 'seat', 'seated', 'see', 'semi', 'serv', 'set', 'several', 'sh', 'shade', 'shear', 'sheared', 'shearing', 'sheep', 'sheering', 'sheet', 'shelv', 'shelves', 'shift', 'shining', 'ship', 'shirt', 'shop', 'shopping', 'shor', 'shorelin', 'short', 'shorts', 'shot', 'show', 'showing', 'shown', 'siamese', 'side', 'sidewalk', 'siding', 'sign', 'sill', 'silver', 'sink', 'sit', 'sits', 'sitting', 'six', 'ski', 'skinny', 'skullcap', 'sky', 'slab', 'sleeping', 'sleeps', 'sliding', 'small', 'smil', 'smile', 'smiles', 'smiling', 'smok', 'smoke', 'sniffing', 'snow', 'snowy', 'social', 'soda', 'sofa', 'sofas', 'someone', 'someth', 'something', 'space', 'spect', 'spectators', 'speeding', 'spinning', 'spins', 'sports', 'spread', 'sprout', 'squar', 'squat', 'st', 'stable', 'stacked', 'stair', 'staircase', 'stal', 'stand', 'standing', 'stands', 'staring', 'station', 'statue', 'steam', 'steering', 'step', 'steps', 'stereo', 'stick', 'stickers', 'still', 'stone', 'stones', 'stop', 'stor', 'story', 'street', 'strip', 'striped', 'strollers', 'structur', 'stucco', 'stuff', 'stuffed', 'style', 'subway', 'suits', 'sun', 'sunlight', 'sunny', 'sunset', 'support', 'surprised', 'suv', 'swamp', 'swan', 'sweat', 'sweater', 'swimming', 'swiss', 'tabby', 'table', 'tablecloth', 'tag', 'tagged', 'tags', 'tail', 'take', 'takes', 'taking', 'talking', 'talks', 'tall', 'tame', 'tan', 'tandem', 'tarmac', 'tarp', 'taxing', 'teapot', 'telephone', 'televis', 'television', 'televisions', 'temporary', 'ten', 'tending', 'tent', 'thick', 'three', 'throw', 'thumbs', 'tied', 'tinfoil', 'tiny', 'tires', 'toddler', 'togeth', 'together', 'tongue', 'top', 'touches', 'tour', 'toward', 'towards', 'track', 'tracks', 'traff', 'trailing', 'train', 'trains', 'traveling', 'travels', 'tre', 'tree', 'trees', 'trick', 'tropical', 'trough', 'truck', 'tthe', 'tunnel', 'turboprop', 'turtleneck', 'tux', 'tv', 'twig', 'twin', 'two', 'typing', 'u2', 'udders', 'underneath', 'uniform', 'united', 'uphill', 'upholstered', 'uprooted', 'urban', 'used', 'using', 'van', 'vas', 'vehicl', 'vehicle', 'vehicles', 'vest', 'victory', 'video', 'vies', 'view', 'viewed', 'viking', 'waiting', 'wal', 'walk', 'walking', 'walks', 'wall', 'walls', 'washer', 'waste', 'wat', 'watching', 'water', 'waterl', 'waters', 'way', 'wear', 'wearing', 'well', 'wheel', 'wheeled', 'wheeli', 'wheelie', 'white', 'win', 'window', 'windowsil', 'wine', 'wings', 'wint', 'wir', 'wire', 'without', 'withsnack', 'wits', 'woman', 'women', 'wood', 'wooded', 'wooden', 'woody', 'wool', 'woolly', 'word', 'works', 'workst', 'world', 'writing', 'written', 'wwii', 'yacht', 'yard', 'yarn', 'yawning', 'yellow', 'young', 'younger']\n",
      "1500\n"
     ]
    }
   ],
   "source": [
    "from sklearn.metrics.pairwise import cosine_similarity\n",
    "from scipy import spatial\n",
    "from sklearn.feature_extraction.text import TfidfVectorizer\n",
    "from sklearn.feature_extraction.text import CountVectorizer\n",
    "import nltk\n",
    "from nltk.stem.porter import PorterStemmer\n",
    "input_path = '../test_data/STS.input.images.txt'\n",
    "#input_path = '../test_data/testinput.txt'\n",
    "output_path = './output/STS.output.images.txt'\n",
    "#output_path = './output/testoutput.txt'\n",
    "nltk.download('stopwords')\n",
    "stopwords = nltk.corpus.stopwords.words('english')\n",
    "\n",
    "#ファイル入力\n",
    "with open(input_path) as f:\n",
    "    s = f.read()\n",
    "s = s.strip().replace('\\t','\\n').replace('.','')\n",
    "sentences = s.split('\\n')\n",
    "ps = PorterStemmer()\n",
    "for i in range(len(sentences)):\n",
    "    token = sentences[i].split('/n')\n",
    "    singles = [ps.stem(plural) for plural in token]\n",
    "    sentences[i] = ' '.join(singles)\n",
    "# print(sentences)\n",
    "    \n",
    "#Vectorizerを設定する。\n",
    "vectorizer = CountVectorizer(lowercase=True,stop_words=stopwords)\n",
    "\n",
    "#語彙の獲得とidfの計算\n",
    "vectorizer.fit(sentences)\n",
    "#tf-idf行列の生成\n",
    "X = vectorizer.transform(sentences)\n",
    "# print(vectorizer.get_feature_names_out())\n",
    "words = vectorizer.get_feature_names_out()\n",
    "print(len(words))\n",
    "print(type(words))\n",
    "print(list(words))\n",
    "# vec1,vec2 = X.toarray()[0],X.toarray()[1]\n",
    "# cos_sim = 1 - spatial.distance.cosine(vec1,vec2)\n",
    "# print(cos_sim,spatial.distance.cosine(vec1,vec2))\n",
    "\n",
    "# l = 1500\n",
    "l = len(sentences)\n",
    "print(l)\n",
    "\n",
    "#c750個のcos類似度リスト\n",
    "cos_sim_list = []\n",
    "#出力用の文字列\n",
    "output = ''\n",
    "\n",
    "# vecs1 = []\n",
    "# vecs2 = []\n",
    "\n",
    "#それぞれ類似度を求める。\n",
    "for i in range(int(l/2)):\n",
    "    vec1 = X.toarray()[2*i]\n",
    "    #vecs1.append(vec1)\n",
    "    vec2 = X.toarray()[2*i+1]\n",
    "    #vecs2.append(vec2)\n",
    "    #cos距離を用いて類似度を出す。\n",
    "    cos_sim = 1 - spatial.distance.cosine(vec1,vec2)\n",
    "    cos_sim_list.append(cos_sim)\n",
    "    output += str(cos_sim) + '\\n'\n",
    "# cos_sim = cosine_similarity(vecs1,vecs2)\n",
    "with open(output_path,mode='w') as f:\n",
    "    f.write(output)"
   ]
  }
 ],
 "metadata": {
  "kernelspec": {
   "display_name": "Python 3 (ipykernel)",
   "language": "python",
   "name": "python3"
  },
  "language_info": {
   "codemirror_mode": {
    "name": "ipython",
    "version": 3
   },
   "file_extension": ".py",
   "mimetype": "text/x-python",
   "name": "python",
   "nbconvert_exporter": "python",
   "pygments_lexer": "ipython3",
   "version": "3.10.9"
  }
 },
 "nbformat": 4,
 "nbformat_minor": 5
}
