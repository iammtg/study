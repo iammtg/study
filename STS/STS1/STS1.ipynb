{
 "cells": [
  {
   "cell_type": "code",
   "execution_count": 84,
   "id": "01a7d31b-d1a7-4352-8405-ed1a94a6af80",
   "metadata": {},
   "outputs": [
    {
     "name": "stdout",
     "output_type": "stream",
     "text": [
      "['above' 'acouch' 'across' ... 'yellow' 'young' 'younger']\n"
     ]
    }
   ],
   "source": [
    "import re\n",
    "#from sklearn.metrics.pairwise import cosine_similarity\n",
    "from scipy import spatial\n",
    "from sklearn.feature_extraction.text import TfidfVectorizer\n",
    "input_path = '../test_data/STS.input.images.txt'\n",
    "output_path = './output/STS.output.images.txt'\n",
    "with open(input_path) as f:\n",
    "    s = f.read()\n",
    "s = s.strip().replace('\\t','\\n')\n",
    "sentences = s.split('\\n')\n",
    "\n",
    "#Vectorizerを設定する。\n",
    "vectorizer = TfidfVectorizer()\n",
    "#語彙の獲得とidfの計算\n",
    "vectorizer.fit(sentences)\n",
    "#tf-idf行列の生成\n",
    "X = vectorizer.transform(sentences)\n",
    "print(vectorizer.get_feature_names_out())\n",
    "#words = vectorizer.get_feature_names_out()\n",
    "# vec1,vec2 = X.toarray()[0],X.toarray()[1]\n",
    "# cos_sim = 1 - spatial.distance.cosine(vec1,vec2)\n",
    "# print(cos_sim,spatial.distance.cosine(vec1,vec2))\n",
    "l = len(sentences)\n",
    "cos_sim_list = []\n",
    "output = ''\n",
    "for i in range(int(l/2)):\n",
    "    vec1 = X.toarray()[2*i]\n",
    "    vec2 = X.toarray()[2*i+1]\n",
    "    cos_sim = 1 - spatial.distance.cosine(vec1,vec2)\n",
    "    cos_sim_list.append(cos_sim)\n",
    "    output += str(cos_sim) + '\\n'\n",
    "with open(output_path,mode='w') as f:\n",
    "    f.write(output)"
   ]
  },
  {
   "cell_type": "code",
   "execution_count": null,
   "id": "4dc9952c-7edb-4689-a86f-bd7d675f8001",
   "metadata": {},
   "outputs": [],
   "source": []
  }
 ],
 "metadata": {
  "kernelspec": {
   "display_name": "Python 3 (ipykernel)",
   "language": "python",
   "name": "python3"
  },
  "language_info": {
   "codemirror_mode": {
    "name": "ipython",
    "version": 3
   },
   "file_extension": ".py",
   "mimetype": "text/x-python",
   "name": "python",
   "nbconvert_exporter": "python",
   "pygments_lexer": "ipython3",
   "version": "3.10.4"
  }
 },
 "nbformat": 4,
 "nbformat_minor": 5
}
