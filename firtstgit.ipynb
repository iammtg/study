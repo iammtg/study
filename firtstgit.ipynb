{
 "cells": [
  {
   "cell_type": "code",
   "execution_count": 2,
   "id": "12e950cc-387f-4fba-9481-b2504b06b95b",
   "metadata": {},
   "outputs": [
    {
     "name": "stdout",
     "output_type": "stream",
     "text": [
      "hello git and github\n"
     ]
    }
   ],
   "source": [
    "print('hello git and github')"
   ]
  },
  {
   "cell_type": "markdown",
   "id": "c5774d1e-159d-4302-9e1c-50fdc2a4026f",
   "metadata": {},
   "source": [
    "This is a first test of git and github"
   ]
  }
 ],
 "metadata": {
  "kernelspec": {
   "display_name": "Python 3 (ipykernel)",
   "language": "python",
   "name": "python3"
  },
  "language_info": {
   "codemirror_mode": {
    "name": "ipython",
    "version": 3
   },
   "file_extension": ".py",
   "mimetype": "text/x-python",
   "name": "python",
   "nbconvert_exporter": "python",
   "pygments_lexer": "ipython3",
   "version": "3.10.4"
  }
 },
 "nbformat": 4,
 "nbformat_minor": 5
}
