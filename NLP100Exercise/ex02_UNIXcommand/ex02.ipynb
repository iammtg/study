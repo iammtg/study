{
 "cells": [
  {
   "cell_type": "markdown",
   "id": "4200a269-de77-446e-b563-3479c3a1d24e",
   "metadata": {},
   "source": [
    "#### 10. 行数のカウント\n",
    "行数をカウントせよ。確認にはwcコマンドを用いよ。"
   ]
  },
  {
   "cell_type": "code",
   "execution_count": 88,
   "id": "a0deb7ce-3bc3-4e10-87e7-3b0096b71f39",
   "metadata": {},
   "outputs": [
    {
     "name": "stdout",
     "output_type": "stream",
     "text": [
      "2780\n"
     ]
    }
   ],
   "source": [
    "path = './popular-names.txt'\n",
    "with open(path) as f:\n",
    "    s = f.read()\n",
    "l = len(s)\n",
    "line_count = 1\n",
    "for i in range(l):\n",
    "    if s[i] == '\\n':\n",
    "        line_count += 1\n",
    "print(line_count)"
   ]
  },
  {
   "cell_type": "markdown",
   "id": "f53c1e8c-5535-498b-a74f-731e0d29dfd9",
   "metadata": {},
   "source": [
    "#### 11.　タブをスペースに変換\n",
    "タブ１文字につきスペース一文字に変換せよ。確認にはsedコマンド,trコマンド,expandコマンドを用いよ。"
   ]
  },
  {
   "cell_type": "code",
   "execution_count": 67,
   "id": "9b8ba3b1-4fae-4aa3-9aa9-127aab8ce8d1",
   "metadata": {
    "scrolled": true
   },
   "outputs": [],
   "source": [
    "path = './popular-names.txt'\n",
    "with open(path) as f:\n",
    "    s = f.read()\n",
    "s = s.replace('\\t',' ')\n",
    "#print(s)\n",
    "with open('./11.txt',mode='w') as f:\n",
    "    f.write(s)"
   ]
  },
  {
   "cell_type": "markdown",
   "id": "4bc446f2-3a49-4fc2-8eb1-b524c2e896f5",
   "metadata": {},
   "source": [
    "#### 12.　1列目をcol1.txtに、2列目をcol2.txtに保存\n",
    "1列目を抜き出したものをcol1.txtに、2列目をcol2.txtとしてファイルに保存せよ。"
   ]
  },
  {
   "cell_type": "code",
   "execution_count": 96,
   "id": "ec42f86b-3afd-4438-9a52-8a3a43a6d484",
   "metadata": {
    "scrolled": true
   },
   "outputs": [],
   "source": [
    "path = './popular-names.txt'\n",
    "with open(path) as f:\n",
    "    s = f.read()\n",
    "s = s.replace('\\t',' ').replace('\\n',' ')\n",
    "list = s.split(' ')\n",
    "l = len(list)\n",
    "i = 0\n",
    "col1_list = []\n",
    "col2_list = []\n",
    "while i < l:\n",
    "    col1_list.append(list[i] + '\\n')\n",
    "    col2_list.append(list[i+1] + '\\n')\n",
    "    i += 4\n",
    "l = len(col1_list)\n",
    "col1_list[l-1] = col1_list[l-1].replace('\\n','')\n",
    "col2_list[l-1] = col2_list[l-1].replace('\\n','')\n",
    "with open('./col1.txt',mode='w') as f:\n",
    "    f.writelines(col1_list)\n",
    "with open('./col2.txt',mode='w') as f:\n",
    "    f.writelines(col2_list)"
   ]
  },
  {
   "cell_type": "markdown",
   "id": "21a90c1a-1912-42a8-b1cb-29430fca2383",
   "metadata": {},
   "source": [
    "#### 13.col1.txt と　col2.txtをマージ\n",
    "1列目と2列目をタブ区切りで並べたテキストファイルを作成せよ。"
   ]
  },
  {
   "cell_type": "code",
   "execution_count": 101,
   "id": "c4a7ca0f-3d24-48a1-be20-ca2a13041dbe",
   "metadata": {
    "scrolled": true
   },
   "outputs": [],
   "source": [
    "with open('./col1.txt') as f:\n",
    "    col1_list = f.readlines()\n",
    "with open('./col2.txt') as f:\n",
    "    col2_list = f.readlines()\n",
    "l = len(col1_list)\n",
    "ss = ''\n",
    "for i in range(l):\n",
    "    ss += col1_list[i].replace('\\n','') + '\\t' + col2_list[i]\n",
    "with open('./marged.txt',mode = 'w') as f:\n",
    "    f.write(ss)"
   ]
  },
  {
   "cell_type": "markdown",
   "id": "9a154f53-dc53-4b89-b58e-82b3ab2cb11b",
   "metadata": {},
   "source": [
    "#### 14.先頭からN行を表示\n",
    "入力のうち先頭のN行だけを表示する。"
   ]
  },
  {
   "cell_type": "code",
   "execution_count": 10,
   "id": "8f117801-0870-429c-a2c6-dc29a36cbd22",
   "metadata": {
    "scrolled": true
   },
   "outputs": [
    {
     "name": "stdin",
     "output_type": "stream",
     "text": [
      " 10\n"
     ]
    },
    {
     "name": "stdout",
     "output_type": "stream",
     "text": [
      "Mary\tF\t7065\t1880\n",
      "Anna\tF\t2604\t1880\n",
      "Emma\tF\t2003\t1880\n",
      "Elizabeth\tF\t1939\t1880\n",
      "Minnie\tF\t1746\t1880\n",
      "Margaret\tF\t1578\t1880\n",
      "Ida\tF\t1472\t1880\n",
      "Alice\tF\t1414\t1880\n",
      "Bertha\tF\t1320\t1880\n",
      "Sarah\tF\t1288\t1880\n"
     ]
    }
   ],
   "source": [
    "n = int(input())\n",
    "path = './popular-names.txt'\n",
    "with open(path) as f:\n",
    "    s = f.read()\n",
    "#s = s.replace('\\t',' ')\n",
    "list = s.split('\\n')\n",
    "l = len(list)\n",
    "n = min(n,l)\n",
    "for i in range(n):\n",
    "    print(list[i])"
   ]
  },
  {
   "cell_type": "markdown",
   "id": "784e5c9a-03a1-4558-8925-49f756fbd4da",
   "metadata": {},
   "source": [
    "#### 15.末尾からN行表示\n",
    "入力のうち末尾からN業を表示する"
   ]
  },
  {
   "cell_type": "code",
   "execution_count": 13,
   "id": "c233c810-2970-4eca-ae26-76c9b6abd41d",
   "metadata": {
    "scrolled": true
   },
   "outputs": [
    {
     "name": "stdin",
     "output_type": "stream",
     "text": [
      " 10\n"
     ]
    },
    {
     "name": "stdout",
     "output_type": "stream",
     "text": [
      "Liam\tM\t19837\t2018\n",
      "Noah\tM\t18267\t2018\n",
      "William\tM\t14516\t2018\n",
      "James\tM\t13525\t2018\n",
      "Oliver\tM\t13389\t2018\n",
      "Benjamin\tM\t13381\t2018\n",
      "Elijah\tM\t12886\t2018\n",
      "Lucas\tM\t12585\t2018\n",
      "Mason\tM\t12435\t2018\n",
      "Logan\tM\t12352\t2018\n"
     ]
    }
   ],
   "source": [
    "n = int(input())\n",
    "path = './popular-names.txt'\n",
    "with open(path) as f:\n",
    "    s = f.read()\n",
    "#s = s.replace('\\t',' ')\n",
    "list = s.split('\\n')\n",
    "l = len(list)\n",
    "n = min(n,l)\n",
    "for i in range(n):\n",
    "    print(list[l-n+i])"
   ]
  },
  {
   "cell_type": "code",
   "execution_count": null,
   "id": "179c00e6-15f1-4712-af5a-f82d0376f26b",
   "metadata": {},
   "outputs": [],
   "source": []
  }
 ],
 "metadata": {
  "kernelspec": {
   "display_name": "Python 3 (ipykernel)",
   "language": "python",
   "name": "python3"
  },
  "language_info": {
   "codemirror_mode": {
    "name": "ipython",
    "version": 3
   },
   "file_extension": ".py",
   "mimetype": "text/x-python",
   "name": "python",
   "nbconvert_exporter": "python",
   "pygments_lexer": "ipython3",
   "version": "3.10.4"
  }
 },
 "nbformat": 4,
 "nbformat_minor": 5
}
