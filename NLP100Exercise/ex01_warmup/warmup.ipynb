{
 "cells": [
  {
   "cell_type": "code",
   "execution_count": 57,
   "id": "7d33a474-69f6-47ba-bdb3-36c4afa947e3",
   "metadata": {},
   "outputs": [
    {
     "name": "stdout",
     "output_type": "stream",
     "text": [
      "PythonString\n"
     ]
    }
   ],
   "source": [
    "a = 'Python'\n",
    "b =  'String'\n",
    "c = a+b\n",
    "print(c)"
   ]
  },
  {
   "cell_type": "code",
   "execution_count": 58,
   "id": "d0c3c299-9de5-4b20-a908-9df4ef0889f0",
   "metadata": {},
   "outputs": [
    {
     "name": "stdout",
     "output_type": "stream",
     "text": [
      "dog,cat,penguin\n"
     ]
    }
   ],
   "source": [
    "strings = ['dog','cat','penguin']\n",
    "c = ','.join(strings)\n",
    "print(c)"
   ]
  },
  {
   "cell_type": "code",
   "execution_count": 59,
   "id": "def1c30b-ffab-4406-bac6-5a38b890d21f",
   "metadata": {},
   "outputs": [
    {
     "name": "stdout",
     "output_type": "stream",
     "text": [
      "dogdogdog\n"
     ]
    }
   ],
   "source": [
    "s = 'dog'\n",
    "c = s * 3\n",
    "print(c)"
   ]
  },
  {
   "cell_type": "code",
   "execution_count": 60,
   "id": "3f331dd2-1cb0-442f-a1be-4d12fd7a315f",
   "metadata": {},
   "outputs": [
    {
     "name": "stdout",
     "output_type": "stream",
     "text": [
      "Python is better than C\n"
     ]
    }
   ],
   "source": [
    "a = 'Python'\n",
    "b = 'better than C'\n",
    "print('%s is %s' %(a,b))"
   ]
  },
  {
   "cell_type": "code",
   "execution_count": 61,
   "id": "bba97bb4-fb53-4202-bce4-0144b20abd4d",
   "metadata": {},
   "outputs": [
    {
     "name": "stdout",
     "output_type": "stream",
     "text": [
      "Today is Sunday.\n"
     ]
    }
   ],
   "source": [
    "s = 'Today is Monday.'\n",
    "ss = s.replace('Monday','Sunday')\n",
    "print(ss)"
   ]
  },
  {
   "cell_type": "code",
   "execution_count": 62,
   "id": "a14c7455-2af1-43bc-8026-00757fb6f2c8",
   "metadata": {},
   "outputs": [
    {
     "name": "stdout",
     "output_type": "stream",
     "text": [
      "Bye Bye\n"
     ]
    }
   ],
   "source": [
    "s2 = 'Hello Hello'\n",
    "ss2 = s2.replace('Hello','Bye')\n",
    "print(ss2)"
   ]
  },
  {
   "cell_type": "code",
   "execution_count": 63,
   "id": "946814d1-f5f7-4ea2-b983-11d2787c7a24",
   "metadata": {},
   "outputs": [
    {
     "name": "stdout",
     "output_type": "stream",
     "text": [
      "World Hello\n"
     ]
    }
   ],
   "source": [
    "s3 = 'Hello Hello'\n",
    "ss3 = s3.replace('Hello','World',1)\n",
    "print(ss3)"
   ]
  },
  {
   "cell_type": "code",
   "execution_count": 64,
   "id": "1151407f-16dd-49be-8270-6088a188a954",
   "metadata": {},
   "outputs": [
    {
     "name": "stdout",
     "output_type": "stream",
     "text": [
      "a\n",
      "c\n"
     ]
    }
   ],
   "source": [
    "s = 'abc'\n",
    "print(s[0])\n",
    "print(s[-1])"
   ]
  },
  {
   "cell_type": "code",
   "execution_count": 65,
   "id": "c2e2a7e1-6c2c-416f-a1f7-195d76022064",
   "metadata": {},
   "outputs": [
    {
     "name": "stdout",
     "output_type": "stream",
     "text": [
      "This\n",
      "This\n",
      "pen\n"
     ]
    }
   ],
   "source": [
    "s = 'This is a pen.'\n",
    "n = 1\n",
    "m = 4\n",
    "print(s[n-1:n-1+m])\n",
    "print(s[0:4])\n",
    "print(s[-4:-1])"
   ]
  },
  {
   "cell_type": "code",
   "execution_count": 66,
   "id": "75f7d46f-243f-4062-85c2-78ce47ecf402",
   "metadata": {},
   "outputs": [
    {
     "name": "stdout",
     "output_type": "stream",
     "text": [
      "1\n",
      "4\n"
     ]
    }
   ],
   "source": [
    "s = 'abcabcabc'\n",
    "index = s.find('b')\n",
    "print(index)\n",
    "index = s.find('b',2)\n",
    "print(index)"
   ]
  },
  {
   "cell_type": "code",
   "execution_count": 67,
   "id": "b7551d13-bc8a-43c8-b684-392ca0e0a5e2",
   "metadata": {},
   "outputs": [
    {
     "name": "stdout",
     "output_type": "stream",
     "text": [
      "start=1\n",
      "start=4\n",
      "start=7\n"
     ]
    }
   ],
   "source": [
    "target = 'b'\n",
    "index = -1\n",
    "while True:\n",
    "    index = s.find(target,index+1)\n",
    "    if index == -1:\n",
    "        break\n",
    "    print('start=%d' %index)"
   ]
  },
  {
   "cell_type": "code",
   "execution_count": 68,
   "id": "333507c3-5a11-4a47-97d0-07de46338a3c",
   "metadata": {},
   "outputs": [
    {
     "name": "stdout",
     "output_type": "stream",
     "text": [
      "a\n",
      "i\n",
      "u\n",
      "e\n",
      "o\n",
      "['a', 'i', 'u', 'e', 'o']\n"
     ]
    }
   ],
   "source": [
    "string = 'aiueo'\n",
    "for c in string:\n",
    "    print(c)\n",
    "    \n",
    "print(list(string))"
   ]
  },
  {
   "cell_type": "code",
   "execution_count": 69,
   "id": "942c3134-07b4-4980-8037-7010ab326db6",
   "metadata": {},
   "outputs": [
    {
     "name": "stdout",
     "output_type": "stream",
     "text": [
      "AxB\n",
      "Ax B\n",
      "A xB\n"
     ]
    }
   ],
   "source": [
    "s = ' x '\n",
    "print('A' + s.strip() + 'B')\n",
    "print('A' + s.lstrip() + 'B')\n",
    "print('A' + s.rstrip() + 'B')"
   ]
  },
  {
   "cell_type": "code",
   "execution_count": 70,
   "id": "371d323a-e1c1-45d5-9cdc-5e6343cfe047",
   "metadata": {},
   "outputs": [
    {
     "name": "stdout",
     "output_type": "stream",
     "text": [
      "3\n"
     ]
    }
   ],
   "source": [
    "s = 'aaabbbc'\n",
    "print(s.count('b'))"
   ]
  },
  {
   "cell_type": "code",
   "execution_count": null,
   "id": "679119c5-54c0-4e4c-9a6a-83d4d8129665",
   "metadata": {},
   "outputs": [],
   "source": []
  }
 ],
 "metadata": {
  "kernelspec": {
   "display_name": "Python 3 (ipykernel)",
   "language": "python",
   "name": "python3"
  },
  "language_info": {
   "codemirror_mode": {
    "name": "ipython",
    "version": 3
   },
   "file_extension": ".py",
   "mimetype": "text/x-python",
   "name": "python",
   "nbconvert_exporter": "python",
   "pygments_lexer": "ipython3",
   "version": "3.10.4"
  }
 },
 "nbformat": 4,
 "nbformat_minor": 5
}
