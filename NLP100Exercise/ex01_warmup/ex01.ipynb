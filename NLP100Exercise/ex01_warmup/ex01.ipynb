{
 "cells": [
  {
   "cell_type": "markdown",
   "id": "ecaf9d2d-176a-48b1-badc-bf4a3bf9284f",
   "metadata": {},
   "source": [
    "#### 00.文字列の逆順\n",
    "\"stressed\"の文字を逆さに並べた文字列"
   ]
  },
  {
   "cell_type": "code",
   "execution_count": 3,
   "id": "76508297-8b0e-4130-a992-7979c2882faa",
   "metadata": {},
   "outputs": [
    {
     "name": "stdout",
     "output_type": "stream",
     "text": [
      "desserts\n"
     ]
    }
   ],
   "source": [
    "s = 'stressed'\n",
    "ss = ''\n",
    "l = len(s)\n",
    "for i in range(l):\n",
    "    ss += s[l-i-1]\n",
    "print(ss)"
   ]
  },
  {
   "cell_type": "markdown",
   "id": "0fbaea9c-a6e8-4ee6-acf5-d90e01198467",
   "metadata": {},
   "source": [
    "#### 01.「パタトクカシーー」\n",
    "1,3,5,7文字目を取り出した文字列を得る。"
   ]
  },
  {
   "cell_type": "code",
   "execution_count": 154,
   "id": "670eb5e6-40f8-4e4d-acc8-7a7ecd801ba8",
   "metadata": {},
   "outputs": [
    {
     "name": "stdout",
     "output_type": "stream",
     "text": [
      "パトカー\n"
     ]
    }
   ],
   "source": [
    "s = 'パタトクカシーー'\n",
    "ss = ''\n",
    "list = [1,3,5,7]\n",
    "l = len(s)\n",
    "for i in range(l):\n",
    "    if (i+1) in list:\n",
    "        ss += s[i]\n",
    "print(ss)"
   ]
  },
  {
   "cell_type": "markdown",
   "id": "6819c598-7779-4906-af46-23db0a2073ce",
   "metadata": {},
   "source": [
    "#### 02.「パトカー」＋「タクシー」＝「パタトクカシーー」\n",
    "「パトカー」＋「タクシー」の文字を先頭から交互に連結して文字列「パタトクカシーー」を得よ．"
   ]
  },
  {
   "cell_type": "code",
   "execution_count": 155,
   "id": "544a7fd0-1b08-4e5a-90d9-59cc9ebbe1aa",
   "metadata": {},
   "outputs": [
    {
     "name": "stdout",
     "output_type": "stream",
     "text": [
      "パタトクカシーー\n"
     ]
    }
   ],
   "source": [
    "s1 = 'パトカー'\n",
    "s2 = 'タクシー'\n",
    "ss = ''\n",
    "l = len(s1)\n",
    "for i in range(l):\n",
    "    ss += (s1[i] + s2[i])\n",
    "print(ss)"
   ]
  },
  {
   "cell_type": "markdown",
   "id": "3d19d916-c7d9-4339-9a1e-4dfaaa2012c2",
   "metadata": {},
   "source": [
    "#### 03.円周率\n",
    "“Now I need a drink, alcoholic of course, after the heavy lectures involving quantum mechanics.”という文を単語に分解し，各単語の（アルファベットの）文字数を先頭から出現順に並べたリストを作成せよ.nk"
   ]
  },
  {
   "cell_type": "code",
   "execution_count": 156,
   "id": "71e58f55-218c-4daa-91a3-34551dcfee81",
   "metadata": {},
   "outputs": [
    {
     "name": "stdout",
     "output_type": "stream",
     "text": [
      "[3, 1, 4, 1, 5, 9, 2, 6, 5, 3, 5, 8, 9, 7, 9]\n"
     ]
    }
   ],
   "source": [
    "s = 'Now I need a drink, alcoholic of course, after the heavy lectures involving quantum mechanics.'\n",
    "s = s.replace(',','').replace('.','')\n",
    "list = s.split(' ')\n",
    "newlist = []\n",
    "for elem in list:\n",
    "    newlist.append(len(elem))\n",
    "print(newlist)"
   ]
  },
  {
   "cell_type": "markdown",
   "id": "2d7a5ecb-7154-404e-a857-f44dca154eed",
   "metadata": {},
   "source": [
    "#### 04.元素記号\n",
    "“Hi He Lied Because Boron Could Not Oxidize Fluorine. New Nations Might Also Sign Peace Security Clause. Arthur King Can.”という文を単語に分解し，1, 5, 6, 7, 8, 9, 15, 16, 19番目の単語は先頭の1文字，それ以外の単語は先頭の2文字を取り出し，取り出した文字列から単語の位置（先頭から何番目の単語か）への連想配列（辞書型もしくはマップ型）を作成せよ．"
   ]
  },
  {
   "cell_type": "code",
   "execution_count": 157,
   "id": "03009dea-2763-43ca-ab3c-72620b896cf0",
   "metadata": {},
   "outputs": [
    {
     "name": "stdout",
     "output_type": "stream",
     "text": [
      "{'H': 1, 'He': 2, 'Li': 3, 'Be': 4, 'B': 5, 'C': 6, 'N': 7, 'O': 8, 'F': 9, 'Ne': 10, 'Na': 11, 'Mi': 12, 'Al': 13, 'Si': 14, 'P': 15, 'S': 16, 'Cl': 17, 'Ar': 18, 'K': 19, 'Ca': 20}\n"
     ]
    }
   ],
   "source": [
    "s = 'Hi He Lied Because Boron Could Not Oxidize Fluorine. New Nations Might Also Sign Peace Security Clause. Arthur King Can'\n",
    "s = s.replace(',','').replace('.','')\n",
    "str_list = s.split(' ')\n",
    "num_list = [1,5,6,7,8,9,15,16,19]\n",
    "dict = {}\n",
    "i = 1\n",
    "for elem in str_list:\n",
    "    if i in num_list:\n",
    "        dict[elem[0]] = i\n",
    "    else :\n",
    "        dict[elem[0:2]] = i\n",
    "    i += 1\n",
    "\n",
    "print(dict)"
   ]
  },
  {
   "cell_type": "markdown",
   "id": "12786104-cc7c-42b2-a9e8-875bea72aff1",
   "metadata": {},
   "source": [
    "#### 05. n-gram\n",
    "与えられたシーケンス（文字列やリストなど）からn-gramを作る関数を作成せよ．この関数を用い，”I am an \n",
    "NLPer”という文から単語bi-gram，文字bi-gramを得よ．"
   ]
  },
  {
   "cell_type": "code",
   "execution_count": 158,
   "id": "a89a2beb-e13e-4551-b4bd-1523c568f41a",
   "metadata": {},
   "outputs": [
    {
     "name": "stdout",
     "output_type": "stream",
     "text": [
      "['I ', ' a', 'am', 'm ', ' a', 'an', 'n ', ' N', 'NL', 'LP', 'Pe', 'er', 'r']\n",
      "[['I', 'am'], ['am', 'an'], ['an', 'NLPer'], ['NLPer']]\n"
     ]
    }
   ],
   "source": [
    "def n_gram(s,n):\n",
    "    list = []\n",
    "    for i in range(len(s)):\n",
    "        list.append(s[i:i+n])\n",
    "    return list\n",
    "s = 'I am an NLPer'\n",
    "ss = s.split(' ')\n",
    "print(n_gram(s,2))\n",
    "print(n_gram(ss,2))"
   ]
  },
  {
   "cell_type": "markdown",
   "id": "4d919da0-53ce-4b57-ab9f-3d7eb74632d5",
   "metadata": {},
   "source": [
    "#### 06. 集合\n",
    "“paraparaparadise”と”paragraph”に含まれる文字bi-gramの集合を，それぞれ, XとYとして求め，XとYの和集合，積集合，差集合を求めよ．さらに，’se’というbi-gramがXおよびYに含まれるかどうかを調べよ．"
   ]
  },
  {
   "cell_type": "code",
   "execution_count": 159,
   "id": "62a4cce0-b136-40a0-b265-e3a8c3b7d7c9",
   "metadata": {},
   "outputs": [
    {
     "name": "stdout",
     "output_type": "stream",
     "text": [
      "['pa', 'ar', 'ra', 'ap', 'ad', 'di', 'is', 'se', 'e']\n",
      "['pa', 'ar', 'ra', 'ag', 'gr', 'ap', 'ph', 'h']\n",
      "\n",
      "['pa', 'ar', 'ra', 'ap', 'ad', 'di', 'is', 'se', 'e', 'ag', 'gr', 'ph', 'h']\n",
      "['pa', 'ar', 'ra', 'ap']\n",
      "['ad', 'di', 'is', 'se', 'e']\n",
      "['ag', 'gr', 'ph', 'h']\n"
     ]
    }
   ],
   "source": [
    "s1,s2 = 'paraparaparadise','paragraph'\n",
    "x,y = n_gram(s1,2),n_gram(s2,2)\n",
    "x_cp = []\n",
    "y_cp = []\n",
    "for elem in x:\n",
    "    if not(elem in x_cp):\n",
    "        x_cp.append(elem)\n",
    "        \n",
    "for elem in y:\n",
    "    if not(elem in y_cp):\n",
    "        y_cp.append(elem)\n",
    "x = x_cp\n",
    "y = y_cp\n",
    "\n",
    "sum_set = x.copy()\n",
    "mul_set = []\n",
    "diff_setx = []\n",
    "diff_sety = []\n",
    "\n",
    "for elem in y:\n",
    "    if sum_set.count(elem) == 0:\n",
    "        sum_set.append(elem)\n",
    "\n",
    "set = x.copy() + y.copy()\n",
    "for elem in set:\n",
    "    if set.count(elem) > 1 and mul_set.count(elem) == 0:\n",
    "        mul_set.append(elem)\n",
    "\n",
    "for elem in x:\n",
    "    if y.count(elem) == 0:\n",
    "        diff_setx.append(elem)\n",
    "\n",
    "for elem in y:\n",
    "    if x.count(elem) == 0:\n",
    "        diff_sety.append(elem)\n",
    "\n",
    "print(x)\n",
    "print(y)\n",
    "print()\n",
    "print(sum_set)\n",
    "print(mul_set)\n",
    "print(diff_setx)\n",
    "print(diff_sety)"
   ]
  },
  {
   "cell_type": "markdown",
   "id": "dab78229-45e9-43ad-8e3e-014f29562a32",
   "metadata": {},
   "source": [
    "#### 07. テンプレートによる文生成\n",
    "引数x, y, zを受け取り「x時のyはz」という文字列を返す関数を実装せよ．さらに，x=12, y=”気温”, z=22.4として，実行結果を確認せよ"
   ]
  },
  {
   "cell_type": "code",
   "execution_count": 160,
   "id": "95d41138-2469-4a72-a2a8-56c1883babc6",
   "metadata": {},
   "outputs": [
    {
     "name": "stdout",
     "output_type": "stream",
     "text": [
      "12時の気温は22.4\n"
     ]
    }
   ],
   "source": [
    "def templete(x: int,y: str,z: float):\n",
    "    s = ('%d時の%sは%0.1f'%(x,y,z))\n",
    "    return s\n",
    "print(templete(12,'気温',22.4))"
   ]
  },
  {
   "cell_type": "markdown",
   "id": "d6d44779-dad4-4c83-98ba-17865dbe143f",
   "metadata": {},
   "source": [
    "#### 08. 暗号文\n",
    "与えられた文字列の各文字を、以下の仕様で変換する関数。\n",
    "1. 英小文字なら(219 - 文字コード)の文字に置換\n",
    "2. その他の文字はそのまま出力化せよ．"
   ]
  },
  {
   "cell_type": "code",
   "execution_count": 2,
   "id": "d986a8a2-0d48-4763-9d3b-5bb811c487f9",
   "metadata": {},
   "outputs": [
    {
     "name": "stdout",
     "output_type": "stream",
     "text": [
      "Hvool Wliow\n",
      "Hello World\n"
     ]
    }
   ],
   "source": [
    "def cipher(s:str):\n",
    "    ss = ''\n",
    "    l = len(s)\n",
    "    for i in range(l):\n",
    "        if(s[i].islower()):\n",
    "            ss += chr(219 - ord(s[i]))\n",
    "        else:\n",
    "            ss += s[i]\n",
    "    return ss\n",
    "def composite(s:str):\n",
    "    ss = ''\n",
    "    l = len(s)\n",
    "    for i in range(l):\n",
    "        if(s[i].islower()):\n",
    "            ss += chr(-ord(s[i])+219)\n",
    "        else:\n",
    "            ss += s[i]\n",
    "    return ss\n",
    "\n",
    "s = 'Hello World'\n",
    "ss = cipher(s)\n",
    "print(ss)\n",
    "print(composite(ss))"
   ]
  },
  {
   "cell_type": "markdown",
   "id": "2dd76c56-9ad1-4051-95c2-897101a0ec9c",
   "metadata": {},
   "source": [
    "#### 09. Typoglycemia\n",
    "スペースで区切られた単語列に対して，各単語の先頭と末尾の文字は残し，それ以外の文字の順序をランダムに並び替えるプログラムを作成せよ．ただし，長さが４以下の単語は並び替えないこととする．適当な英語の文（例えば”I couldn’t believe that I could actually understand what I was reading : the phenomenal power of the human mind .”"
   ]
  },
  {
   "cell_type": "code",
   "execution_count": 162,
   "id": "4fd88695-f05e-4f8d-aa37-5b22baed6331",
   "metadata": {},
   "outputs": [
    {
     "name": "stdout",
     "output_type": "stream",
     "text": [
      "I co’ldunt bleeive that I cloud aalcluty unsrantedd what I was ridneag : the paemohnenl pwoer of the huamn mind  \n"
     ]
    }
   ],
   "source": [
    "import random\n",
    "s = 'I couldn’t believe that I could actually understand what I was reading : the phenomenal power of the human mind .'\n",
    "s = s.replace(',','').replace('.','')\n",
    "list = s.split(' ')\n",
    "ss = ''\n",
    "for word in list:\n",
    "    if(len(word)>4):\n",
    "        shuffle = word[1:-1]\n",
    "        shuffle = ''.join(random.sample(shuffle,len(shuffle)))\n",
    "        ss += (word[0] + shuffle +word[-1]) + ' '\n",
    "    else:\n",
    "        ss += word + ' '\n",
    "print(ss)"
   ]
  }
 ],
 "metadata": {
  "kernelspec": {
   "display_name": "Python 3 (ipykernel)",
   "language": "python",
   "name": "python3"
  },
  "language_info": {
   "codemirror_mode": {
    "name": "ipython",
    "version": 3
   },
   "file_extension": ".py",
   "mimetype": "text/x-python",
   "name": "python",
   "nbconvert_exporter": "python",
   "pygments_lexer": "ipython3",
   "version": "3.10.9"
  }
 },
 "nbformat": 4,
 "nbformat_minor": 5
}
