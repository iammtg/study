{
 "cells": [
  {
   "cell_type": "markdown",
   "id": "4bf6a927-5997-4ff9-a181-2e3bf98c8098",
   "metadata": {},
   "source": [
    "夏目漱石の小説「吾輩は猫である」の文章をMeCabを使って形態素解析し、その結果を保存せよ。"
   ]
  },
  {
   "cell_type": "code",
   "execution_count": 10,
   "id": "88422d36-f200-43bd-a70b-f3849091f6da",
   "metadata": {},
   "outputs": [],
   "source": [
    "import MeCab\n",
    "with open('./neko.txt',encoding='UTF-8') as f:\n",
    "    text = f.read()\n",
    "tagger = MeCab.Tagger()\n",
    "node= tagger.parseToNode(text)\n",
    "mecab_text = ''\n",
    "while node:\n",
    "    mecab_text += node.surface + ',' + node.feature + '\\n'\n",
    "    node = node.next\n",
    "with open('./neko.txt.mecab',encoding='UTF-8',mode='w') as f:\n",
    "    f.write(mecab_text)"
   ]
  },
  {
   "cell_type": "markdown",
   "id": "3adca966-5d6a-4c77-a779-b6fa7854e2de",
   "metadata": {},
   "source": [
    "#### 30.形態素解析結果の読み込み\n",
    "形態素解析結果を読み込むプログラムを作成せよ。"
   ]
  },
  {
   "cell_type": "code",
   "execution_count": 33,
   "id": "efa34fdf-12fe-42e3-b038-f2a74863f096",
   "metadata": {},
   "outputs": [
    {
     "name": "stdout",
     "output_type": "stream",
     "text": [
      "[{'surface': '吾輩', 'base': '吾輩', 'pos': '名詞', 'pos1': '代名詞'}, {'surface': 'は', 'base': 'は', 'pos': '助詞', 'pos1': '係助詞'}, {'surface': '猫', 'base': '猫', 'pos': '名詞', 'pos1': '普通名詞'}, {'surface': 'で', 'base': 'だ', 'pos': '助動詞', 'pos1': '*'}, {'surface': 'ある', 'base': 'ある', 'pos': '動詞', 'pos1': '非自立可能'}, {'surface': '。', 'base': '。', 'pos': '補助記号', 'pos1': '句点'}, {'surface': '名前', 'base': '名前', 'pos': '名詞', 'pos1': '普通名詞'}, {'surface': 'は', 'base': 'は', 'pos': '助詞', 'pos1': '係助詞'}, {'surface': 'まだ', 'base': 'まだ', 'pos': '副詞', 'pos1': '*'}, {'surface': '無い', 'base': '無い', 'pos': '形容詞', 'pos1': '非自立可能'}, {'surface': '。', 'base': '。', 'pos': '補助記号', 'pos1': '句点'}]\n"
     ]
    }
   ],
   "source": [
    "path = './neko.txt.mecab'\n",
    "sentences = []\n",
    "sentence = []\n",
    "line_dic = {}\n",
    "count = 0\n",
    "with open(path,encoding='UTF-8') as f:\n",
    "    for line in f:\n",
    "        if(line[0]==','or line[0] == '　'):\n",
    "            sentences.append(sentence)\n",
    "            sentence = []\n",
    "        else:\n",
    "            line = line.split(',')\n",
    "            if(line[1] == '代名詞'):\n",
    "                line[1] = '名詞'\n",
    "                line[2] = '代名詞'\n",
    "            try:\n",
    "                line_dic = {'surface':line[0],'base':line[11],'pos':line[1],'pos1':line[2]}\n",
    "            except IndexError:\n",
    "                line_dic = {'surface':line[0],'base':'*','pos':line[1],'pos1':line[2]}\n",
    "            sentence.append(line_dic)\n",
    "print(sentences[2])"
   ]
  },
  {
   "cell_type": "markdown",
   "id": "595d574e-59cd-4ba4-8aa6-3eaa7949b236",
   "metadata": {},
   "source": [
    "#### 31.動詞\n",
    "動詞の表層系をすべて抽出せよ。"
   ]
  },
  {
   "cell_type": "code",
   "execution_count": 22,
   "id": "d63415ef-e6b0-4626-8095-615d802514f6",
   "metadata": {},
   "outputs": [
    {
     "name": "stdout",
     "output_type": "stream",
     "text": [
      "4072\n",
      "向い\n",
      "ござん\n",
      "仰ぎ\n",
      "しゃくい上げ\n",
      "濁す\n",
      "癒り\n",
      "立ち上がっ\n",
      "よむ\n",
      "卸し\n",
      "借す\n"
     ]
    }
   ],
   "source": [
    "verbs = set()\n",
    "for elems in sentences:\n",
    "    for elem in elems:\n",
    "        if(elem['pos'] == '動詞'):\n",
    "            verbs.add(elem['surface'])\n",
    "print(len(verbs))\n",
    "for verb in list(verbs)[:10]:\n",
    "    print(verb)"
   ]
  },
  {
   "cell_type": "markdown",
   "id": "126f77e3-9f74-4264-bd0c-3def835007a7",
   "metadata": {},
   "source": [
    "#### 31.動詞の基本形\n",
    "動詞の基本形をすべて抽出せよ。"
   ]
  },
  {
   "cell_type": "code",
   "execution_count": 23,
   "id": "4b089af2-2ae7-4b0d-b063-dc72810d1103",
   "metadata": {},
   "outputs": [
    {
     "name": "stdout",
     "output_type": "stream",
     "text": [
      "2511\n",
      "尽る\n",
      "濁す\n",
      "よむ\n",
      "借す\n",
      "飲む\n",
      "はらう\n",
      "認める\n",
      "著わす\n",
      "繋ぐ\n",
      "寝返る\n"
     ]
    }
   ],
   "source": [
    "base_of_verbs = set()\n",
    "for elems in sentences:\n",
    "    for elem in elems:\n",
    "        if(elem['pos'] == '動詞'):\n",
    "            base_of_verbs.add(elem['base'])\n",
    "print(len(base_of_verbs))\n",
    "for base_of_verb in list(base_of_verbs)[:10]:\n",
    "    print(base_of_verb)"
   ]
  },
  {
   "cell_type": "markdown",
   "id": "177c2dba-7725-4ec9-8e01-054f52d6520a",
   "metadata": {},
   "source": [
    "#### 32.AのB\n",
    "2つの名詞が「の」で連結されている名詞句を抽出せよ。"
   ]
  },
  {
   "cell_type": "code",
   "execution_count": 35,
   "id": "4ad00288-0d55-4d47-a6b8-8c1b0aa19977",
   "metadata": {},
   "outputs": [
    {
     "name": "stdout",
     "output_type": "stream",
     "text": [
      "5238\n",
      "彼の掌\n",
      "掌の上\n",
      "書生の顔\n",
      "ものの見\n",
      "はずの顔\n",
      "顔の真中\n",
      "穴の中\n",
      "書生の掌\n",
      "掌の裏\n",
      "何の事\n"
     ]
    }
   ],
   "source": [
    "ans = []\n",
    "pre_word = ''\n",
    "is_no = False\n",
    "is_pre_meishi = False\n",
    "for elems in sentences:\n",
    "    for elem in elems:\n",
    "        if(is_no):\n",
    "            if(pre_word['pos'] == '名詞' and elem['pos'] == '名詞'):\n",
    "                ans.append(pre_word['surface']+'の'+elem['surface'])\n",
    "            pre_word = elem\n",
    "            is_no = False\n",
    "        elif(elem['surface'] == 'の'):\n",
    "            is_no = True\n",
    "        else:\n",
    "            pre_word = elem\n",
    "            is_no = False\n",
    "print(len(ans))\n",
    "for elem in ans[:10]:\n",
    "    print(elem)"
   ]
  },
  {
   "cell_type": "markdown",
   "id": "420c5bd6-3665-4174-91bd-7dd7adecde68",
   "metadata": {},
   "source": [
    "#### 33.名詞の連接\n",
    "名詞の連接を最長一致で抽出せよ。"
   ]
  },
  {
   "cell_type": "code",
   "execution_count": 54,
   "id": "0c0cf13e-5140-41c9-adbb-29d1afc4db56",
   "metadata": {},
   "outputs": [
    {
     "name": "stdout",
     "output_type": "stream",
     "text": [
      "4184\n",
      "時々我々\n",
      "時何\n",
      "見始\n",
      "時妙\n",
      "一毛\n",
      "後猫\n",
      "一度\n",
      "上今\n",
      "はてな何\n",
      "うち池\n"
     ]
    }
   ],
   "source": [
    "is_pre_n = False\n",
    "n_list = []\n",
    "n_text = ''\n",
    "for elems in sentences:\n",
    "    for elem in elems:\n",
    "        if(elem['pos'] == '名詞'):\n",
    "            if(not n_text == ''):\n",
    "                is_pre_n = True\n",
    "            n_text += elem['surface']\n",
    "        elif(is_pre_n):\n",
    "            n_list.append(n_text)\n",
    "            is_pre_n = False\n",
    "            n_text = ''\n",
    "        else:\n",
    "            n_text = ''\n",
    "    n_text = ''\n",
    "    is_pre_n = False\n",
    "print(len(n_list))\n",
    "for ns in n_list[:10]:\n",
    "    print(ns)\n",
    "            "
   ]
  },
  {
   "cell_type": "markdown",
   "id": "932003e9-f319-43ef-bf3a-a097813bcccc",
   "metadata": {},
   "source": [
    "#### 33.単語の出現頻度\n",
    "文章中に出現する単語とその出現頻度を求め、出現頻度の高い順に並べよ。"
   ]
  },
  {
   "cell_type": "code",
   "execution_count": 69,
   "id": "a74e8025-9acb-4c41-9b8f-c8a788e7eb70",
   "metadata": {},
   "outputs": [
    {
     "name": "stdout",
     "output_type": "stream",
     "text": [
      "('の', 9543)\n",
      "('だ', 8288)\n",
      "('て', 7392)\n",
      "('は', 6501)\n",
      "('と', 6157)\n",
      "('を', 6119)\n",
      "('に', 5715)\n",
      "('が', 5395)\n",
      "('た', 4268)\n",
      "('する', 3861)\n"
     ]
    }
   ],
   "source": [
    "def def1(tapple):\n",
    "    return tapple[1]\n",
    "word_dic = {}\n",
    "for elems in sentences:\n",
    "    for elem in elems:\n",
    "        if(elem['pos'] == '補助記号'):\n",
    "            continue\n",
    "        word = elem['base']\n",
    "        if word in word_dic:\n",
    "            word_dic[word] += 1\n",
    "        else:\n",
    "            word_dic[word] = 1\n",
    "\n",
    "sorted_dic = sorted(word_dic.items(),key=def1,reverse=True)\n",
    "for word_and_fre in sorted_dic[:10]:\n",
    "    print(word_and_fre)\n",
    "\n",
    "    "
   ]
  }
 ],
 "metadata": {
  "kernelspec": {
   "display_name": "Python 3 (ipykernel)",
   "language": "python",
   "name": "python3"
  },
  "language_info": {
   "codemirror_mode": {
    "name": "ipython",
    "version": 3
   },
   "file_extension": ".py",
   "mimetype": "text/x-python",
   "name": "python",
   "nbconvert_exporter": "python",
   "pygments_lexer": "ipython3",
   "version": "3.10.4"
  }
 },
 "nbformat": 4,
 "nbformat_minor": 5
}
