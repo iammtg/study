{
 "cells": [
  {
   "cell_type": "markdown",
   "id": "4bf6a927-5997-4ff9-a181-2e3bf98c8098",
   "metadata": {},
   "source": [
    "夏目漱石の小説「吾輩は猫である」の文章をMeCabを使って形態素解析し、その結果を保存せよ。"
   ]
  },
  {
   "cell_type": "code",
   "execution_count": 27,
   "id": "88422d36-f200-43bd-a70b-f3849091f6da",
   "metadata": {},
   "outputs": [],
   "source": [
    "import MeCab\n",
    "with open('./neko.txt',encoding='UTF-8') as f:\n",
    "    text = f.read()\n",
    "tagger = MeCab.Tagger()\n",
    "node= tagger.parseToNode(text)\n",
    "mecab_text = ''\n",
    "# for i in range(100):\n",
    "#     mecab_text += node.surface + ','+ node.feature + '\\n'\n",
    "#     node = node.next\n",
    "# mecab_text = tagger.parse(text)\n",
    "while node:\n",
    "    mecab_text += node.surface + ',' + node.feature + '\\n'\n",
    "    node = node.next\n",
    "with open('./neko.txt.mecab',encoding='UTF-8',mode='w') as f:\n",
    "    f.write(mecab_text)"
   ]
  },
  {
   "cell_type": "markdown",
   "id": "3adca966-5d6a-4c77-a779-b6fa7854e2de",
   "metadata": {},
   "source": [
    "#### 30.形態素解析結果の読み込み\n",
    "形態素解析結果を読み込むプログラムを作成せよ。"
   ]
  },
  {
   "cell_type": "code",
   "execution_count": 55,
   "id": "efa34fdf-12fe-42e3-b038-f2a74863f096",
   "metadata": {},
   "outputs": [
    {
     "name": "stdout",
     "output_type": "stream",
     "text": [
      "[{'surface': '吾輩', 'base': '吾輩', 'pos': '代名詞', 'pos1': '*'}, {'surface': 'は', 'base': 'は', 'pos': '助詞', 'pos1': '係助詞'}, {'surface': '猫', 'base': '猫', 'pos': '名詞', 'pos1': '普通名詞'}, {'surface': 'で', 'base': 'だ', 'pos': '助動詞', 'pos1': '*'}, {'surface': 'ある', 'base': 'ある', 'pos': '動詞', 'pos1': '非自立可能'}, {'surface': '。', 'base': '。', 'pos': '補助記号', 'pos1': '句点'}, {'surface': '名前', 'base': '名前', 'pos': '名詞', 'pos1': '普通名詞'}, {'surface': 'は', 'base': 'は', 'pos': '助詞', 'pos1': '係助詞'}, {'surface': 'まだ', 'base': 'まだ', 'pos': '副詞', 'pos1': '*'}, {'surface': '無い', 'base': '無い', 'pos': '形容詞', 'pos1': '非自立可能'}, {'surface': '。', 'base': '。', 'pos': '補助記号', 'pos1': '句点'}]\n"
     ]
    }
   ],
   "source": [
    "path = './neko.txt.mecab'\n",
    "sentences = []\n",
    "sentence = []\n",
    "line_dic = {}\n",
    "count = 0\n",
    "with open(path,encoding='UTF-8') as f:\n",
    "    for line in f:\n",
    "        if(line[0]==','or line[0] == '　'):\n",
    "            sentences.append(sentence)\n",
    "            sentence = []\n",
    "        else:\n",
    "            line = line.split(',')\n",
    "            try:\n",
    "                line_dic = {'surface':line[0],'base':line[11],'pos':line[1],'pos1':line[2]}\n",
    "            except IndexError:\n",
    "                line_dic = {'surface':line[0],'base':'*','pos':line[1],'pos1':line[2]}\n",
    "            sentence.append(line_dic)\n",
    "print(sentences[2])"
   ]
  },
  {
   "cell_type": "markdown",
   "id": "595d574e-59cd-4ba4-8aa6-3eaa7949b236",
   "metadata": {},
   "source": [
    "#### 31.動詞\n",
    "動詞の表層系をすべて抽出せよ。"
   ]
  },
  {
   "cell_type": "code",
   "execution_count": 65,
   "id": "d63415ef-e6b0-4626-8095-615d802514f6",
   "metadata": {},
   "outputs": [
    {
     "name": "stdout",
     "output_type": "stream",
     "text": [
      "4072\n",
      "落す\n",
      "澄まし\n",
      "恥ずる\n",
      "寝つき\n",
      "から\n",
      "潰し\n",
      "抜き\n",
      "儲かっ\n",
      "うたっ\n",
      "はいり\n"
     ]
    }
   ],
   "source": [
    "verbs = set()\n",
    "for elems in sentences:\n",
    "    for elem in elems:\n",
    "        if(elem['pos'] == '動詞'):\n",
    "            verbs.add(elem['surface'])\n",
    "print(len(verbs))\n",
    "for verb in list(verbs)[:10]:\n",
    "    print(verb)"
   ]
  },
  {
   "cell_type": "markdown",
   "id": "126f77e3-9f74-4264-bd0c-3def835007a7",
   "metadata": {},
   "source": [
    "#### 31.動詞の基本形\n",
    "動詞の基本形をすべて抽出せよ。"
   ]
  },
  {
   "cell_type": "code",
   "execution_count": 66,
   "id": "4b089af2-2ae7-4b0d-b063-dc72810d1103",
   "metadata": {},
   "outputs": [
    {
     "name": "stdout",
     "output_type": "stream",
     "text": [
      "2511\n",
      "落す\n",
      "差す\n",
      "眠る\n",
      "司どる\n",
      "送る\n",
      "禁ずる\n",
      "おける\n",
      "からかう\n",
      "考う\n",
      "挙げる\n"
     ]
    }
   ],
   "source": [
    "base_of_verbs = set()\n",
    "for elems in sentences:\n",
    "    for elem in elems:\n",
    "        if(elem['pos'] == '動詞'):\n",
    "            base_of_verbs.add(elem['base'])\n",
    "print(len(base_of_verbs))\n",
    "for base_of_verb in list(base_of_verbs)[:10]:\n",
    "    print(base_of_verb)"
   ]
  }
 ],
 "metadata": {
  "kernelspec": {
   "display_name": "Python 3 (ipykernel)",
   "language": "python",
   "name": "python3"
  },
  "language_info": {
   "codemirror_mode": {
    "name": "ipython",
    "version": 3
   },
   "file_extension": ".py",
   "mimetype": "text/x-python",
   "name": "python",
   "nbconvert_exporter": "python",
   "pygments_lexer": "ipython3",
   "version": "3.10.4"
  }
 },
 "nbformat": 4,
 "nbformat_minor": 5
}
